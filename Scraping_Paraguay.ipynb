{
  "nbformat": 4,
  "nbformat_minor": 0,
  "metadata": {
    "colab": {
      "provenance": [],
      "collapsed_sections": [],
      "authorship_tag": "ABX9TyMoZNtmqj6zFHVZ6lOddypd",
      "include_colab_link": true
    },
    "kernelspec": {
      "name": "python3",
      "display_name": "Python 3"
    },
    "language_info": {
      "name": "python"
    }
  },
  "cells": [
    {
      "cell_type": "markdown",
      "metadata": {
        "id": "view-in-github",
        "colab_type": "text"
      },
      "source": [
        "<a href=\"https://colab.research.google.com/github/laurasg2020/3erSemanaProg/blob/main/Scraping_Paraguay.ipynb\" target=\"_parent\"><img src=\"https://colab.research.google.com/assets/colab-badge.svg\" alt=\"Open In Colab\"/></a>"
      ]
    },
    {
      "cell_type": "code",
      "execution_count": 2,
      "metadata": {
        "id": "WPvLNoIzBchr"
      },
      "outputs": [],
      "source": [
        "from bs4 import BeautifulSoup\n",
        "import requests\n",
        "import pandas as pd"
      ]
    },
    {
      "cell_type": "code",
      "source": [
        "url = \"https://datosmacro.expansion.com/otros/coronavirus-vacuna/paraguay\"\n",
        "r = requests.get(url)"
      ],
      "metadata": {
        "id": "UjJi9pqIDJqo"
      },
      "execution_count": 61,
      "outputs": []
    },
    {
      "cell_type": "code",
      "source": [
        "soup = BeautifulSoup(r.content, \"html.parser\")"
      ],
      "metadata": {
        "id": "Cucqdk9SFLfB"
      },
      "execution_count": 58,
      "outputs": []
    },
    {
      "cell_type": "code",
      "source": [
        "rows = soup.find('table', id='tb0').find('tbody').find_all('tr')"
      ],
      "metadata": {
        "id": "lVG8FedHbmHx"
      },
      "execution_count": 25,
      "outputs": []
    },
    {
      "cell_type": "code",
      "source": [
        "    fecha = []\n",
        "    dosis_adm =[]\n",
        "    personas_vac = []\n",
        "    completo_vac = []\n",
        "    porc_completo = []\n",
        "\n",
        "\n",
        "    for row in rows:\n",
        "        fecha.append(row.find_all('td')[0].get_text())\n",
        "        dosis_adm.append(row.find_all('td')[1].get_text())\n",
        "        personas_vac.append(row.find_all('td')[2].get_text())\n",
        "        completo_vac.append(row.find_all('td')[3].get_text())\n",
        "        porc_completo.append(row.find_all('td')[4].get_text())"
      ],
      "metadata": {
        "id": "KmbJOFVj-LMN"
      },
      "execution_count": 31,
      "outputs": []
    },
    {
      "cell_type": "code",
      "source": [
        "df = pd.DataFrame({\"Fecha\":fecha,\"Dosis Administradas\":dosis_adm, \"Personas vacunadas\":personas_vac, \"Completamente vacunadas\":completo_vac, \"% completamente vacunadas\":porc_completo})"
      ],
      "metadata": {
        "id": "D-Fjm5F_B1dy"
      },
      "execution_count": 62,
      "outputs": []
    },
    {
      "cell_type": "code",
      "source": [
        "df"
      ],
      "metadata": {
        "colab": {
          "base_uri": "https://localhost:8080/",
          "height": 2259
        },
        "id": "BuIe5qbUfnsL",
        "outputId": "ebfa1ead-5100-4897-d4be-f5201fd0e81c"
      },
      "execution_count": 63,
      "outputs": [
        {
          "output_type": "execute_result",
          "data": {
            "text/plain": [
              "         Fecha Dosis Administradas Personas vacunadas Completamente vacunadas  \\\n",
              "0   21/10/2022           9.419.313          3.967.215               3.518.399   \n",
              "1   14/10/2022           9.407.422          3.965.786               3.516.189   \n",
              "2   07/10/2022           9.398.544          3.964.564               3.514.444   \n",
              "3   30/09/2022           9.390.960          3.963.563               3.512.972   \n",
              "4   09/09/2022           9.386.134          3.986.965               3.516.872   \n",
              "..         ...                 ...                ...                     ...   \n",
              "95  15/09/2021           4.271.051          2.439.006               1.832.045   \n",
              "96  14/09/2021           4.271.051          2.439.006               1.832.045   \n",
              "97  13/09/2021           4.271.051          2.439.006               1.832.045   \n",
              "98  12/09/2021           4.271.051          2.439.006               1.832.045   \n",
              "99  11/09/2021           4.271.051          2.439.006               1.832.045   \n",
              "\n",
              "   % completamente vacunadas  \n",
              "0                     47,85%  \n",
              "1                     47,82%  \n",
              "2                     47,80%  \n",
              "3                     47,78%  \n",
              "4                     47,83%  \n",
              "..                       ...  \n",
              "95                    25,26%  \n",
              "96                    25,26%  \n",
              "97                    25,26%  \n",
              "98                    25,26%  \n",
              "99                    25,26%  \n",
              "\n",
              "[100 rows x 5 columns]"
            ],
            "text/html": [
              "\n",
              "  <div id=\"df-2f57aa71-e423-4d2d-a73a-269c33685292\">\n",
              "    <div class=\"colab-df-container\">\n",
              "      <div>\n",
              "<style scoped>\n",
              "    .dataframe tbody tr th:only-of-type {\n",
              "        vertical-align: middle;\n",
              "    }\n",
              "\n",
              "    .dataframe tbody tr th {\n",
              "        vertical-align: top;\n",
              "    }\n",
              "\n",
              "    .dataframe thead th {\n",
              "        text-align: right;\n",
              "    }\n",
              "</style>\n",
              "<table border=\"1\" class=\"dataframe\">\n",
              "  <thead>\n",
              "    <tr style=\"text-align: right;\">\n",
              "      <th></th>\n",
              "      <th>Fecha</th>\n",
              "      <th>Dosis Administradas</th>\n",
              "      <th>Personas vacunadas</th>\n",
              "      <th>Completamente vacunadas</th>\n",
              "      <th>% completamente vacunadas</th>\n",
              "    </tr>\n",
              "  </thead>\n",
              "  <tbody>\n",
              "    <tr>\n",
              "      <th>0</th>\n",
              "      <td>21/10/2022</td>\n",
              "      <td>9.419.313</td>\n",
              "      <td>3.967.215</td>\n",
              "      <td>3.518.399</td>\n",
              "      <td>47,85%</td>\n",
              "    </tr>\n",
              "    <tr>\n",
              "      <th>1</th>\n",
              "      <td>14/10/2022</td>\n",
              "      <td>9.407.422</td>\n",
              "      <td>3.965.786</td>\n",
              "      <td>3.516.189</td>\n",
              "      <td>47,82%</td>\n",
              "    </tr>\n",
              "    <tr>\n",
              "      <th>2</th>\n",
              "      <td>07/10/2022</td>\n",
              "      <td>9.398.544</td>\n",
              "      <td>3.964.564</td>\n",
              "      <td>3.514.444</td>\n",
              "      <td>47,80%</td>\n",
              "    </tr>\n",
              "    <tr>\n",
              "      <th>3</th>\n",
              "      <td>30/09/2022</td>\n",
              "      <td>9.390.960</td>\n",
              "      <td>3.963.563</td>\n",
              "      <td>3.512.972</td>\n",
              "      <td>47,78%</td>\n",
              "    </tr>\n",
              "    <tr>\n",
              "      <th>4</th>\n",
              "      <td>09/09/2022</td>\n",
              "      <td>9.386.134</td>\n",
              "      <td>3.986.965</td>\n",
              "      <td>3.516.872</td>\n",
              "      <td>47,83%</td>\n",
              "    </tr>\n",
              "    <tr>\n",
              "      <th>...</th>\n",
              "      <td>...</td>\n",
              "      <td>...</td>\n",
              "      <td>...</td>\n",
              "      <td>...</td>\n",
              "      <td>...</td>\n",
              "    </tr>\n",
              "    <tr>\n",
              "      <th>95</th>\n",
              "      <td>15/09/2021</td>\n",
              "      <td>4.271.051</td>\n",
              "      <td>2.439.006</td>\n",
              "      <td>1.832.045</td>\n",
              "      <td>25,26%</td>\n",
              "    </tr>\n",
              "    <tr>\n",
              "      <th>96</th>\n",
              "      <td>14/09/2021</td>\n",
              "      <td>4.271.051</td>\n",
              "      <td>2.439.006</td>\n",
              "      <td>1.832.045</td>\n",
              "      <td>25,26%</td>\n",
              "    </tr>\n",
              "    <tr>\n",
              "      <th>97</th>\n",
              "      <td>13/09/2021</td>\n",
              "      <td>4.271.051</td>\n",
              "      <td>2.439.006</td>\n",
              "      <td>1.832.045</td>\n",
              "      <td>25,26%</td>\n",
              "    </tr>\n",
              "    <tr>\n",
              "      <th>98</th>\n",
              "      <td>12/09/2021</td>\n",
              "      <td>4.271.051</td>\n",
              "      <td>2.439.006</td>\n",
              "      <td>1.832.045</td>\n",
              "      <td>25,26%</td>\n",
              "    </tr>\n",
              "    <tr>\n",
              "      <th>99</th>\n",
              "      <td>11/09/2021</td>\n",
              "      <td>4.271.051</td>\n",
              "      <td>2.439.006</td>\n",
              "      <td>1.832.045</td>\n",
              "      <td>25,26%</td>\n",
              "    </tr>\n",
              "  </tbody>\n",
              "</table>\n",
              "<p>100 rows × 5 columns</p>\n",
              "</div>\n",
              "      <button class=\"colab-df-convert\" onclick=\"convertToInteractive('df-2f57aa71-e423-4d2d-a73a-269c33685292')\"\n",
              "              title=\"Convert this dataframe to an interactive table.\"\n",
              "              style=\"display:none;\">\n",
              "        \n",
              "  <svg xmlns=\"http://www.w3.org/2000/svg\" height=\"24px\"viewBox=\"0 0 24 24\"\n",
              "       width=\"24px\">\n",
              "    <path d=\"M0 0h24v24H0V0z\" fill=\"none\"/>\n",
              "    <path d=\"M18.56 5.44l.94 2.06.94-2.06 2.06-.94-2.06-.94-.94-2.06-.94 2.06-2.06.94zm-11 1L8.5 8.5l.94-2.06 2.06-.94-2.06-.94L8.5 2.5l-.94 2.06-2.06.94zm10 10l.94 2.06.94-2.06 2.06-.94-2.06-.94-.94-2.06-.94 2.06-2.06.94z\"/><path d=\"M17.41 7.96l-1.37-1.37c-.4-.4-.92-.59-1.43-.59-.52 0-1.04.2-1.43.59L10.3 9.45l-7.72 7.72c-.78.78-.78 2.05 0 2.83L4 21.41c.39.39.9.59 1.41.59.51 0 1.02-.2 1.41-.59l7.78-7.78 2.81-2.81c.8-.78.8-2.07 0-2.86zM5.41 20L4 18.59l7.72-7.72 1.47 1.35L5.41 20z\"/>\n",
              "  </svg>\n",
              "      </button>\n",
              "      \n",
              "  <style>\n",
              "    .colab-df-container {\n",
              "      display:flex;\n",
              "      flex-wrap:wrap;\n",
              "      gap: 12px;\n",
              "    }\n",
              "\n",
              "    .colab-df-convert {\n",
              "      background-color: #E8F0FE;\n",
              "      border: none;\n",
              "      border-radius: 50%;\n",
              "      cursor: pointer;\n",
              "      display: none;\n",
              "      fill: #1967D2;\n",
              "      height: 32px;\n",
              "      padding: 0 0 0 0;\n",
              "      width: 32px;\n",
              "    }\n",
              "\n",
              "    .colab-df-convert:hover {\n",
              "      background-color: #E2EBFA;\n",
              "      box-shadow: 0px 1px 2px rgba(60, 64, 67, 0.3), 0px 1px 3px 1px rgba(60, 64, 67, 0.15);\n",
              "      fill: #174EA6;\n",
              "    }\n",
              "\n",
              "    [theme=dark] .colab-df-convert {\n",
              "      background-color: #3B4455;\n",
              "      fill: #D2E3FC;\n",
              "    }\n",
              "\n",
              "    [theme=dark] .colab-df-convert:hover {\n",
              "      background-color: #434B5C;\n",
              "      box-shadow: 0px 1px 3px 1px rgba(0, 0, 0, 0.15);\n",
              "      filter: drop-shadow(0px 1px 2px rgba(0, 0, 0, 0.3));\n",
              "      fill: #FFFFFF;\n",
              "    }\n",
              "  </style>\n",
              "\n",
              "      <script>\n",
              "        const buttonEl =\n",
              "          document.querySelector('#df-2f57aa71-e423-4d2d-a73a-269c33685292 button.colab-df-convert');\n",
              "        buttonEl.style.display =\n",
              "          google.colab.kernel.accessAllowed ? 'block' : 'none';\n",
              "\n",
              "        async function convertToInteractive(key) {\n",
              "          const element = document.querySelector('#df-2f57aa71-e423-4d2d-a73a-269c33685292');\n",
              "          const dataTable =\n",
              "            await google.colab.kernel.invokeFunction('convertToInteractive',\n",
              "                                                     [key], {});\n",
              "          if (!dataTable) return;\n",
              "\n",
              "          const docLinkHtml = 'Like what you see? Visit the ' +\n",
              "            '<a target=\"_blank\" href=https://colab.research.google.com/notebooks/data_table.ipynb>data table notebook</a>'\n",
              "            + ' to learn more about interactive tables.';\n",
              "          element.innerHTML = '';\n",
              "          dataTable['output_type'] = 'display_data';\n",
              "          await google.colab.output.renderOutput(dataTable, element);\n",
              "          const docLink = document.createElement('div');\n",
              "          docLink.innerHTML = docLinkHtml;\n",
              "          element.appendChild(docLink);\n",
              "        }\n",
              "      </script>\n",
              "    </div>\n",
              "  </div>\n",
              "  "
            ]
          },
          "metadata": {},
          "execution_count": 63
        }
      ]
    },
    {
      "cell_type": "code",
      "source": [
        "df.to_csv(\"Tabla covid Paraguay\")"
      ],
      "metadata": {
        "id": "tYOulbqgfvP6"
      },
      "execution_count": 64,
      "outputs": []
    }
  ]
}