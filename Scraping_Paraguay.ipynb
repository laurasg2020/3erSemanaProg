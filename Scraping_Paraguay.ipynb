{
  "nbformat": 4,
  "nbformat_minor": 0,
  "metadata": {
    "colab": {
      "provenance": [],
      "collapsed_sections": [],
      "authorship_tag": "ABX9TyMwOqaxduoR9lbwNP/zTJYA",
      "include_colab_link": true
    },
    "kernelspec": {
      "name": "python3",
      "display_name": "Python 3"
    },
    "language_info": {
      "name": "python"
    }
  },
  "cells": [
    {
      "cell_type": "markdown",
      "metadata": {
        "id": "view-in-github",
        "colab_type": "text"
      },
      "source": [
        "<a href=\"https://colab.research.google.com/github/laurasg2020/3erSemanaProg/blob/main/Scraping_Paraguay.ipynb\" target=\"_parent\"><img src=\"https://colab.research.google.com/assets/colab-badge.svg\" alt=\"Open In Colab\"/></a>"
      ]
    },
    {
      "cell_type": "code",
      "execution_count": null,
      "metadata": {
        "id": "WPvLNoIzBchr"
      },
      "outputs": [],
      "source": [
        "from bs4 import BeautifulSoup\n",
        "import requests\n",
        "import pandas as pd"
      ]
    },
    {
      "cell_type": "code",
      "source": [
        "url = \"https://datosmacro.expansion.com/otros/coronavirus-vacuna/paraguay\"\n",
        "r = requests.get(url)"
      ],
      "metadata": {
        "id": "UjJi9pqIDJqo"
      },
      "execution_count": null,
      "outputs": []
    },
    {
      "cell_type": "code",
      "source": [
        "soup = BeautifulSoup(r.content, \"html.parser\")"
      ],
      "metadata": {
        "id": "Cucqdk9SFLfB"
      },
      "execution_count": null,
      "outputs": []
    },
    {
      "cell_type": "code",
      "source": [
        "rows = soup.find('table', id='tb0').find('tbody').find_all('tr')"
      ],
      "metadata": {
        "id": "lVG8FedHbmHx"
      },
      "execution_count": null,
      "outputs": []
    },
    {
      "cell_type": "code",
      "source": [
        "    fecha = []\n",
        "    dosis_adm =[]\n",
        "    personas_vac = []\n",
        "    completo_vac = []\n",
        "    porc_completo = []\n",
        "\n",
        "\n",
        "    for row in rows:\n",
        "        fecha.append(row.find_all('td')[0].get_text())\n",
        "        dosis_adm.append(row.find_all('td')[1].get_text())\n",
        "        personas_vac.append(row.find_all('td')[2].get_text())\n",
        "        completo_vac.append(row.find_all('td')[3].get_text())\n",
        "        porc_completo.append(row.find_all('td')[4].get_text())"
      ],
      "metadata": {
        "id": "KmbJOFVj-LMN"
      },
      "execution_count": null,
      "outputs": []
    },
    {
      "cell_type": "code",
      "source": [
        "df = pd.DataFrame({\"Fecha\":fecha,\"Dosis Administradas\":dosis_adm, \"Personas vacunadas\":personas_vac, \"Completamente vacunadas\":completo_vac, \"% completamente vacunadas\":porc_completo})"
      ],
      "metadata": {
        "id": "D-Fjm5F_B1dy"
      },
      "execution_count": null,
      "outputs": []
    },
    {
      "cell_type": "code",
      "source": [
        "df"
      ],
      "metadata": {
        "id": "BuIe5qbUfnsL"
      },
      "execution_count": null,
      "outputs": []
    },
    {
      "cell_type": "code",
      "source": [
        "pip install PyMySQL"
      ],
      "metadata": {
        "colab": {
          "base_uri": "https://localhost:8080/"
        },
        "id": "kWHsumrKDhdf",
        "outputId": "97ab5fd7-4d98-4554-f195-cea908aa68e8"
      },
      "execution_count": null,
      "outputs": [
        {
          "output_type": "stream",
          "name": "stdout",
          "text": [
            "Looking in indexes: https://pypi.org/simple, https://us-python.pkg.dev/colab-wheels/public/simple/\n",
            "Collecting PyMySQL\n",
            "  Downloading PyMySQL-1.0.2-py3-none-any.whl (43 kB)\n",
            "\u001b[K     |████████████████████████████████| 43 kB 1.5 MB/s \n",
            "\u001b[?25hInstalling collected packages: PyMySQL\n",
            "Successfully installed PyMySQL-1.0.2\n"
          ]
        }
      ]
    },
    {
      "cell_type": "code",
      "source": [
        "try:\n",
        "\tconexion = pymysql.connect(host='localhost',\n",
        "                             user='root',\n",
        "                             password='',\n",
        "                             db='peliculas')"
      ],
      "metadata": {
        "id": "T_aU9JMLIb1y"
      },
      "execution_count": null,
      "outputs": []
    },
    {
      "cell_type": "code",
      "source": [
        "CREATE TABLE IF NOT EXISTS paises(\n",
        "\tid SMALLINT(5) UNSIGNED AUTO_INCREMENT NOT NULL UNIQUE,\n",
        "    nombre VARCHAR(255) UNIQUE,\n",
        "    poblacion BIGINT(20) UNSIGNED NOT NULL,\n",
        "    superficie BIGINT(20) UNSIGNED NOT NULL,\n",
        "    continente VARCHAR(20) NOT NULL,\n",
        "    \n",
        "    PRIMARY KEY(id)\n",
        ");"
      ],
      "metadata": {
        "id": "YgPgholfFRZZ"
      },
      "execution_count": null,
      "outputs": []
    },
    {
      "cell_type": "code",
      "source": [
        "CREATE TABLE IF NOT EXISTS vacunas_covid19(\n",
        "\tid BIGINT(20) UNSIGNED AUTO_INCREMENT UNIQUE NOT NULL,\n",
        "    fecha DATE,\n",
        "    dosis_administradas BIGINT(20) UNSIGNED,\n",
        "    personas_vacunadas  BIGINT(20) UNSIGNED,\n",
        "    completamente_vacunadas BIGINT(20) UNSIGNED,\n",
        "    porcentaje_completamente_vacunadas FLOAT4,\n",
        "    pais_id SMALLINT(5) UNSIGNED NOT NULL,\n",
        "    \n",
        "    PRIMARY KEY(id),\n",
        "    FOREIGN KEY(pais_id) REFERENCES paises(id)\n",
        "    );"
      ],
      "metadata": {
        "id": "mRooGn33Fgu3"
      },
      "execution_count": null,
      "outputs": []
    },
    {
      "cell_type": "code",
      "source": [
        "!pwd"
      ],
      "metadata": {
        "id": "XOH4iAWhInhb",
        "colab": {
          "base_uri": "https://localhost:8080/"
        },
        "outputId": "d1e4faa4-7652-422f-8ae1-b3b664c3810e"
      },
      "execution_count": 18,
      "outputs": [
        {
          "output_type": "stream",
          "name": "stdout",
          "text": [
            "/content\n"
          ]
        }
      ]
    }
  ]
}